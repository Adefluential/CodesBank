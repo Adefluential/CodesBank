{
 "cells": [
  {
   "cell_type": "code",
   "execution_count": 4,
   "id": "ae8dea8d-1198-4575-9626-7b88571c5e6e",
   "metadata": {
    "tags": []
   },
   "outputs": [
    {
     "name": "stdin",
     "output_type": "stream",
     "text": [
      "Enter your body weight (in kg) i.e. 80.0 kg:  80\n",
      "Enter your height (in m) i.e. 1.65 m:  1.68\n"
     ]
    },
    {
     "name": "stdout",
     "output_type": "stream",
     "text": [
      "You are slightly overweight\n"
     ]
    }
   ],
   "source": [
    "#This code calculate BMI using SI units\n",
    "a = float (input(\"Enter your body weight (in kg) i.e. 80.0 kg: \"))\n",
    "b = float (input (\"Enter your height (in m) i.e. 1.65 m: \"))\n",
    "BMI = a/b**2\n",
    "c = 18.5\n",
    "d = 25\n",
    "e = 30\n",
    "f = 35\n",
    "\n",
    "if BMI < c:\n",
    "    print (\"You are underwight\")\n",
    "elif c < BMI < d:\n",
    "    print (\"You have normal weight\")\n",
    "elif d < BMI < e:\n",
    "    print (\"You are slightly overweight\")\n",
    "elif e < BMI < f:\n",
    "    print (\"You are obese\")\n",
    "else:\n",
    "    print (\"You are clinically obese\")"
   ]
  },
  {
   "cell_type": "code",
   "execution_count": null,
   "id": "e0e5f73c-5560-479e-b08a-4bda0738ea1f",
   "metadata": {},
   "outputs": [],
   "source": []
  }
 ],
 "metadata": {
  "kernelspec": {
   "display_name": "Python 3 (ipykernel)",
   "language": "python",
   "name": "python3"
  },
  "language_info": {
   "codemirror_mode": {
    "name": "ipython",
    "version": 3
   },
   "file_extension": ".py",
   "mimetype": "text/x-python",
   "name": "python",
   "nbconvert_exporter": "python",
   "pygments_lexer": "ipython3",
   "version": "3.11.3"
  }
 },
 "nbformat": 4,
 "nbformat_minor": 5
}
